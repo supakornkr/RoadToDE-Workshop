{
  "nbformat": 4,
  "nbformat_minor": 0,
  "metadata": {
    "colab": {
      "provenance": [],
      "authorship_tag": "ABX9TyPqs8StkmFiGRzloMgfjqfL"
    },
    "kernelspec": {
      "name": "python3",
      "display_name": "Python 3"
    },
    "language_info": {
      "name": "python"
    }
  },
  "cells": [
    {
      "cell_type": "markdown",
      "source": [
        "### Install PyMySQL"
      ],
      "metadata": {
        "id": "Yfq5X9q4X2l6"
      }
    },
    {
      "cell_type": "code",
      "execution_count": null,
      "metadata": {
        "id": "bj88S1cZXwI0"
      },
      "outputs": [],
      "source": [
        "!pip install pymysql"
      ]
    },
    {
      "cell_type": "markdown",
      "source": [
        "### Install python-dotenv"
      ],
      "metadata": {
        "id": "QHONWRFGjl9m"
      }
    },
    {
      "cell_type": "code",
      "source": [
        "!pip install python-dotenv"
      ],
      "metadata": {
        "id": "ET0OHCKsby_6"
      },
      "execution_count": null,
      "outputs": []
    },
    {
      "cell_type": "code",
      "source": [
        "import os\n",
        "from dotenv import load_dotenv\n",
        "\n",
        "load_dotenv()"
      ],
      "metadata": {
        "id": "C9_pmvTWbQ5L"
      },
      "execution_count": null,
      "outputs": []
    },
    {
      "cell_type": "markdown",
      "source": [
        "### Import PyMySQL"
      ],
      "metadata": {
        "id": "iIAHu7f7Zpbi"
      }
    },
    {
      "cell_type": "code",
      "source": [
        "import pymysql"
      ],
      "metadata": {
        "id": "O_4p9LyZZhvP"
      },
      "execution_count": null,
      "outputs": []
    },
    {
      "cell_type": "markdown",
      "source": [
        "### MySQL Configuration"
      ],
      "metadata": {
        "id": "dY5ihuARkeDN"
      }
    },
    {
      "cell_type": "code",
      "source": [
        "class config:\n",
        "  HOST = os.getenv('MYSQL_HOST')\n",
        "  PORT = int(os.getenv('MYSQL_PORT'))\n",
        "  USER = os.getenv('MYSQL_USER')\n",
        "  PASSWORD = os.getenv('MYSQL_PASSWORD')\n",
        "  DB = os.getenv('MYSQL_DB')\n",
        "  CHARSET = os.getenv('MYSQL_CHARSET')\n"
      ],
      "metadata": {
        "id": "nVaokkxxib3i"
      },
      "execution_count": null,
      "outputs": []
    },
    {
      "cell_type": "markdown",
      "source": [
        "### Connect DB"
      ],
      "metadata": {
        "id": "nSqcgrxNla6Q"
      }
    },
    {
      "cell_type": "code",
      "source": [
        "connection = pymysql.connect(host=config.HOST,\n",
        "                             port=config.PORT,\n",
        "                             user=config.USER,\n",
        "                             password=config.PASSWORD,\n",
        "                             db=config.DB,\n",
        "                             charset=config.CHARSET)"
      ],
      "metadata": {
        "id": "3xIAGv-NlfLy"
      },
      "execution_count": null,
      "outputs": []
    },
    {
      "cell_type": "markdown",
      "source": [
        "### Show tables in DB"
      ],
      "metadata": {
        "id": "pyHvjZcYsIgG"
      }
    },
    {
      "cell_type": "code",
      "source": [
        "with connection.cursor() as cursor:\n",
        "  cursor.execute(\"show tables;\")\n",
        "  tables = cursor.fetchall()\n",
        "tables\n"
      ],
      "metadata": {
        "id": "sVQtvx4rqlZP"
      },
      "execution_count": null,
      "outputs": []
    },
    {
      "cell_type": "markdown",
      "source": [
        "### Import Pandas"
      ],
      "metadata": {
        "id": "hD8JGvQtitvO"
      }
    },
    {
      "cell_type": "code",
      "source": [
        "import pandas as pd"
      ],
      "metadata": {
        "id": "djMLI7mZsXaG"
      },
      "execution_count": null,
      "outputs": []
    },
    {
      "cell_type": "markdown",
      "source": [
        "### Select data from audible_data"
      ],
      "metadata": {
        "id": "V0AkC-t5iS1H"
      }
    },
    {
      "cell_type": "code",
      "source": [
        "sql = 'SELECT * FROM audible_data '\n",
        "audible_data = pd.read_sql(sql,connection)\n",
        "audible_data = audible_data.set_index('Book_ID')\n",
        "audible_data"
      ],
      "metadata": {
        "id": "tC0h6TBKscGt"
      },
      "execution_count": null,
      "outputs": []
    },
    {
      "cell_type": "markdown",
      "source": [
        "### Select data from audible_transaction"
      ],
      "metadata": {
        "id": "eEQ0spRsicSG"
      }
    },
    {
      "cell_type": "code",
      "source": [
        "sql = 'SELECT * FROM audible_transaction '\n",
        "audible_transaction = pd.read_sql(sql,connection)\n",
        "audible_transaction.index += 1\n",
        "audible_transaction"
      ],
      "metadata": {
        "id": "ZaBY_wZStkWe"
      },
      "execution_count": null,
      "outputs": []
    },
    {
      "cell_type": "markdown",
      "source": [
        "### Join audible_transaction and audible_data"
      ],
      "metadata": {
        "id": "0zVVV8eai3J8"
      }
    },
    {
      "cell_type": "code",
      "source": [
        "transaction = audible_transaction.merge(audible_data, how='left', left_on='book_id', right_on='Book_ID')\n",
        "transaction[\"Price\"] = transaction.apply(lambda x : x['Price'].replace('$',''),axis=1)\n",
        "transaction"
      ],
      "metadata": {
        "id": "fxM-UaOr-iJa"
      },
      "execution_count": null,
      "outputs": []
    },
    {
      "cell_type": "markdown",
      "source": [
        "### Import Requests"
      ],
      "metadata": {
        "id": "fDmWs16OjK1c"
      }
    },
    {
      "cell_type": "code",
      "source": [
        "import requests"
      ],
      "metadata": {
        "id": "4uOqEZ-YKZrz"
      },
      "execution_count": null,
      "outputs": []
    },
    {
      "cell_type": "markdown",
      "source": [
        "### Request Coversion rate API"
      ],
      "metadata": {
        "id": "89_Z3eotjSac"
      }
    },
    {
      "cell_type": "code",
      "source": [
        "url = 'https://r2de2-workshop-vmftiryt6q-ts.a.run.app/usd_thb_conversion_rate'\n",
        "r = requests.get(url)\n",
        "conversion_rate = r.json()\n",
        "conversion_rate = pd.DataFrame(conversion_rate)\n",
        "conversion_rate = conversion_rate.reset_index().rename(columns = {'index':'date'})\n",
        "conversion_rate['date'] = pd.to_datetime(conversion_rate['date']).dt.date\n",
        "conversion_rate"
      ],
      "metadata": {
        "id": "In_btIGIKjZf"
      },
      "execution_count": null,
      "outputs": []
    },
    {
      "cell_type": "code",
      "source": [
        "transaction['date'] = transaction['timestamp']\n",
        "transaction['date'] = pd.to_datetime(transaction['date']).dt.date\n",
        "transaction['Price'] = transaction['Price'].astype(float)\n",
        "transaction"
      ],
      "metadata": {
        "id": "j6t9IasnREVt"
      },
      "execution_count": null,
      "outputs": []
    },
    {
      "cell_type": "markdown",
      "source": [
        "### Join Transaction and Conversion_rate"
      ],
      "metadata": {
        "id": "dw6GiPXxjaCT"
      }
    },
    {
      "cell_type": "code",
      "source": [
        "final_df = transaction.merge(conversion_rate, how=\"left\", left_on=\"date\", right_on=\"date\")\n",
        "final_df['THB'] = final_df['Price']*final_df['conversion_rate']\n",
        "final_df.drop('date',axis=1)"
      ],
      "metadata": {
        "id": "iS3RpmyDX2fp"
      },
      "execution_count": null,
      "outputs": []
    },
    {
      "cell_type": "markdown",
      "source": [
        "### Create CSV"
      ],
      "metadata": {
        "id": "IVULtUgCh7HS"
      }
    },
    {
      "cell_type": "code",
      "source": [
        "final_df.to_csv('output.csv', index= False)"
      ],
      "metadata": {
        "id": "cucBy9eyevBI"
      },
      "execution_count": 95,
      "outputs": []
    }
  ]
}