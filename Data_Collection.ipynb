{
  "nbformat": 4,
  "nbformat_minor": 0,
  "metadata": {
    "colab": {
      "provenance": [],
      "authorship_tag": "ABX9TyPRJXaeFf3yFmE6mYKX5DAY",
      "include_colab_link": true
    },
    "kernelspec": {
      "name": "python3",
      "display_name": "Python 3"
    },
    "language_info": {
      "name": "python"
    }
  },
  "cells": [
    {
      "cell_type": "markdown",
      "metadata": {
        "id": "view-in-github",
        "colab_type": "text"
      },
      "source": [
        "<a href=\"https://colab.research.google.com/github/supakornkr/RoadToDE-Workshop/blob/main/Data_Collection.ipynb\" target=\"_parent\"><img src=\"https://colab.research.google.com/assets/colab-badge.svg\" alt=\"Open In Colab\"/></a>"
      ]
    },
    {
      "cell_type": "markdown",
      "source": [
        "### Install PyMySql"
      ],
      "metadata": {
        "id": "Yfq5X9q4X2l6"
      }
    },
    {
      "cell_type": "code",
      "execution_count": 16,
      "metadata": {
        "colab": {
          "base_uri": "https://localhost:8080/"
        },
        "id": "bj88S1cZXwI0",
        "outputId": "586a7f50-b789-4d9a-9d90-c764f0037f62"
      },
      "outputs": [
        {
          "output_type": "stream",
          "name": "stdout",
          "text": [
            "Looking in indexes: https://pypi.org/simple, https://us-python.pkg.dev/colab-wheels/public/simple/\n",
            "Collecting pymysql\n",
            "  Downloading PyMySQL-1.0.2-py3-none-any.whl (43 kB)\n",
            "\u001b[?25l\r\u001b[K     |███████▌                        | 10 kB 21.9 MB/s eta 0:00:01\r\u001b[K     |███████████████                 | 20 kB 5.1 MB/s eta 0:00:01\r\u001b[K     |██████████████████████▍         | 30 kB 7.2 MB/s eta 0:00:01\r\u001b[K     |██████████████████████████████  | 40 kB 9.2 MB/s eta 0:00:01\r\u001b[K     |████████████████████████████████| 43 kB 1.8 MB/s \n",
            "\u001b[?25hInstalling collected packages: pymysql\n",
            "Successfully installed pymysql-1.0.2\n"
          ]
        }
      ],
      "source": [
        "!pip install pymysql"
      ]
    },
    {
      "cell_type": "code",
      "source": [
        "!pip install python-dotenv"
      ],
      "metadata": {
        "colab": {
          "base_uri": "https://localhost:8080/"
        },
        "id": "ET0OHCKsby_6",
        "outputId": "8be03ef3-fe7b-4f18-ce45-68ce06f4f8f6"
      },
      "execution_count": 5,
      "outputs": [
        {
          "output_type": "stream",
          "name": "stdout",
          "text": [
            "Looking in indexes: https://pypi.org/simple, https://us-python.pkg.dev/colab-wheels/public/simple/\n",
            "Collecting python-dotenv\n",
            "  Downloading python_dotenv-0.21.0-py3-none-any.whl (18 kB)\n",
            "Installing collected packages: python-dotenv\n",
            "Successfully installed python-dotenv-0.21.0\n"
          ]
        }
      ]
    },
    {
      "cell_type": "code",
      "source": [
        "import os\n",
        "from dotenv import load_dotenv\n",
        "\n",
        "load_dotenv()"
      ],
      "metadata": {
        "colab": {
          "base_uri": "https://localhost:8080/"
        },
        "id": "C9_pmvTWbQ5L",
        "outputId": "e2e24328-0883-4331-8721-00e94e3b2dac"
      },
      "execution_count": 19,
      "outputs": [
        {
          "output_type": "execute_result",
          "data": {
            "text/plain": [
              "True"
            ]
          },
          "metadata": {},
          "execution_count": 19
        }
      ]
    },
    {
      "cell_type": "markdown",
      "source": [
        "### Connect DB"
      ],
      "metadata": {
        "id": "iIAHu7f7Zpbi"
      }
    },
    {
      "cell_type": "code",
      "source": [
        "import pymysql\n",
        "class config:\n",
        "  HOST = os.getenv('MYSQL_HOST')\n",
        "  PORT = int(os.getenv('MYSQL_PORT'))\n",
        "  USER = os.getenv('MYSQL_USER')\n",
        "  PASSWORD = os.getenv('MYSQL_PASSWORD')"
      ],
      "metadata": {
        "id": "O_4p9LyZZhvP",
        "colab": {
          "base_uri": "https://localhost:8080/"
        },
        "outputId": "7b22e7f0-5ed8-4818-afbf-12f665dff83c"
      },
      "execution_count": 18,
      "outputs": [
        {
          "output_type": "execute_result",
          "data": {
            "text/plain": [
              "3306"
            ]
          },
          "metadata": {},
          "execution_count": 18
        }
      ]
    }
  ]
}