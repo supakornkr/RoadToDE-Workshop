{
  "nbformat": 4,
  "nbformat_minor": 0,
  "metadata": {
    "colab": {
      "provenance": [],
      "authorship_tag": "ABX9TyMlgQHTbEJiS6Ra5JdMyKIP"
    },
    "kernelspec": {
      "name": "python3",
      "display_name": "Python 3"
    },
    "language_info": {
      "name": "python"
    }
  },
  "cells": [
    {
      "cell_type": "markdown",
      "source": [
        "### Install PyMySQL"
      ],
      "metadata": {
        "id": "Yfq5X9q4X2l6"
      }
    },
    {
      "cell_type": "code",
      "execution_count": null,
      "metadata": {
        "id": "bj88S1cZXwI0"
      },
      "outputs": [],
      "source": [
        "!pip install pymysql"
      ]
    },
    {
      "cell_type": "code",
      "source": [
        "!pip install python-dotenv"
      ],
      "metadata": {
        "id": "ET0OHCKsby_6"
      },
      "execution_count": null,
      "outputs": []
    },
    {
      "cell_type": "code",
      "source": [
        "import os\n",
        "from dotenv import load_dotenv\n",
        "\n",
        "load_dotenv()"
      ],
      "metadata": {
        "id": "C9_pmvTWbQ5L"
      },
      "execution_count": null,
      "outputs": []
    },
    {
      "cell_type": "markdown",
      "source": [
        "### Import PyMySQL"
      ],
      "metadata": {
        "id": "iIAHu7f7Zpbi"
      }
    },
    {
      "cell_type": "code",
      "source": [
        "import pymysql"
      ],
      "metadata": {
        "id": "O_4p9LyZZhvP"
      },
      "execution_count": 21,
      "outputs": []
    },
    {
      "cell_type": "markdown",
      "source": [
        "### MySQL Configuration"
      ],
      "metadata": {
        "id": "dY5ihuARkeDN"
      }
    },
    {
      "cell_type": "code",
      "source": [
        "class config:\n",
        "  HOST = os.getenv('MYSQL_HOST')\n",
        "  PORT = int(os.getenv('MYSQL_PORT'))\n",
        "  USER = os.getenv('MYSQL_USER')\n",
        "  PASSWORD = os.getenv('MYSQL_PASSWORD')\n",
        "  DB = os.getenv('MYSQL_DB')\n",
        "  CHARSET = os.getenv('MYSQL_CHARSET')\n"
      ],
      "metadata": {
        "id": "nVaokkxxib3i"
      },
      "execution_count": 22,
      "outputs": []
    },
    {
      "cell_type": "markdown",
      "source": [
        "### Connect DB"
      ],
      "metadata": {
        "id": "nSqcgrxNla6Q"
      }
    },
    {
      "cell_type": "code",
      "source": [
        "connection = pymysql.connect(host=config.HOST,\n",
        "                             port=config.PORT,\n",
        "                             user=config.USER,\n",
        "                             password=config.PASSWORD,\n",
        "                             db=config.DB,\n",
        "                             charset=config.CHARSET)"
      ],
      "metadata": {
        "colab": {
          "base_uri": "https://localhost:8080/"
        },
        "id": "3xIAGv-NlfLy",
        "outputId": "719800d7-a98e-479c-99ab-b23ff7e22f67"
      },
      "execution_count": 24,
      "outputs": [
        {
          "output_type": "execute_result",
          "data": {
            "text/plain": [
              "<pymysql.connections.Connection at 0x7f8a54bde340>"
            ]
          },
          "metadata": {},
          "execution_count": 24
        }
      ]
    }
  ]
}